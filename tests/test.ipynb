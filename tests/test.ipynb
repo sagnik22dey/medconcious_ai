{
 "cells": [
  {
   "cell_type": "code",
   "execution_count": null,
   "metadata": {},
   "outputs": [],
   "source": [
    "import sqlalchemy\n",
    "\n",
    "import pandas as pd\n",
    "Engine = sqlalchemy.create_engine(\"postgresql://postgres.fzzzhfsjasofslshoiug:@vijitBhuin21@aws-0-ap-south-1.pooler.supabase.com:6543/postgres\")"
   ]
  },
  {
   "cell_type": "code",
   "execution_count": null,
   "metadata": {},
   "outputs": [],
   "source": [
    "import requests\n",
    "\n",
    "try:\n",
    "    response = requests.get(\"http://127.0.0.1:8000/health\")\n",
    "    if response.status_code == 200:\n",
    "        print(\"Health check successful!\")\n",
    "        print(response.json())\n",
    "    else:\n",
    "        print(f\"Health check failed with status code: {response.status_code}\")\n",
    "        print(response.text)\n",
    "except requests.exceptions.ConnectionError as e:\n",
    "    print(f\"Connection error: {e}\")"
   ]
  }
 ],
 "metadata": {
  "kernelspec": {
   "display_name": "Python 3",
   "language": "python",
   "name": "python3"
  },
  "language_info": {
   "codemirror_mode": {
    "name": "ipython",
    "version": 3
   },
   "file_extension": ".py",
   "mimetype": "text/x-python",
   "name": "python",
   "nbconvert_exporter": "python",
   "pygments_lexer": "ipython3",
   "version": "3.9.7"
  }
 },
 "nbformat": 4,
 "nbformat_minor": 4
}
