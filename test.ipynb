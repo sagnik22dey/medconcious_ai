{
 "cells": [
  {
   "cell_type": "code",
   "execution_count": 1,
   "id": "a8a225a0",
   "metadata": {},
   "outputs": [],
   "source": [
    "filePath = r\"A:\\FreeLancing\\medconcious_ai\\Backend\\audio_files\\recording_2025-06-21T20-24-59-327Z.wav\"\n",
    "\n",
    "import base64\n",
    "def encode_file_to_base64(file_path):\n",
    "    with open(file_path, \"rb\") as file:\n",
    "        encoded_string = base64.b64encode(file.read()).decode('utf-8')\n",
    "    return encoded_string\n",
    "\n",
    "def decode_base64_to_file(encoded_string, output_file_path):\n",
    "    with open(output_file_path, \"wb\") as file:\n",
    "        file.write(base64.b64decode(encoded_string))   \n",
    "    "
   ]
  },
  {
   "cell_type": "code",
   "execution_count": 2,
   "id": "b0f28d6c",
   "metadata": {},
   "outputs": [
    {
     "data": {
      "text/plain": [
       "'AAAAGGZ0eXAzZ3A0AAAAAGlzb20zZ3A0AAALMm1vb3YAAABsbXZoZAAAAADkfMWb5HzFmwAAJxAAAaXgAAEAAAEAAAAAAAAAAAAAAAABAAAAAAAAAAAAAAAAAAAAAQAAAAAAAAAAAAAAAAAAQAAAAA'"
      ]
     },
     "metadata": {},
     "output_type": "display_data"
    }
   ],
   "source": [
    "enc_aud = encode_file_to_base64(filePath)\n",
    "display(enc_aud[:150])\n"
   ]
  },
  {
   "cell_type": "code",
   "execution_count": 3,
   "id": "5aaee6bc",
   "metadata": {},
   "outputs": [],
   "source": [
    "decode_bs64 = decode_base64_to_file(enc_aud, \"decoded_audio.wav\")"
   ]
  },
  {
   "cell_type": "code",
   "execution_count": null,
   "id": "c39e89c1",
   "metadata": {},
   "outputs": [],
   "source": []
  }
 ],
 "metadata": {
  "kernelspec": {
   "display_name": "Python 3",
   "language": "python",
   "name": "python3"
  },
  "language_info": {
   "codemirror_mode": {
    "name": "ipython",
    "version": 3
   },
   "file_extension": ".py",
   "mimetype": "text/x-python",
   "name": "python",
   "nbconvert_exporter": "python",
   "pygments_lexer": "ipython3",
   "version": "3.11.4"
  }
 },
 "nbformat": 4,
 "nbformat_minor": 5
}
